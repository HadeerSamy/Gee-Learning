{
  "nbformat": 4,
  "nbformat_minor": 0,
  "metadata": {
    "colab": {
      "provenance": []
    },
    "kernelspec": {
      "name": "python3",
      "display_name": "Python 3"
    },
    "language_info": {
      "name": "python"
    }
  },
  "cells": [
    {
      "cell_type": "code",
      "execution_count": 4,
      "metadata": {
        "id": "LrFWqXXVjvvC"
      },
      "outputs": [],
      "source": [
        "import ee"
      ]
    },
    {
      "cell_type": "code",
      "source": [
        "ee.Authenticate()"
      ],
      "metadata": {
        "colab": {
          "base_uri": "https://localhost:8080/"
        },
        "id": "44RAEl-tjxMw",
        "outputId": "eb4515f9-9f8a-4768-dbc9-4e90e4aaf409"
      },
      "execution_count": 14,
      "outputs": [
        {
          "output_type": "stream",
          "name": "stdout",
          "text": [
            "To authorize access needed by Earth Engine, open the following URL in a web browser and follow the instructions. If the web browser does not start automatically, please manually browse the URL below.\n",
            "\n",
            "    https://code.earthengine.google.com/client-auth?scopes=https%3A//www.googleapis.com/auth/earthengine%20https%3A//www.googleapis.com/auth/devstorage.full_control&request_id=ImMQ0kfKD5Bq5e6nNAd8aYA5h2E9y_P9sPgy6fYqZog&tc=UGVeLKx7G9PJDc8yPA5vgEKcPdsc99bnbMWHGMVNkIQ&cc=x0fXUCCmLvXco7OwHAKQ8yNQTqrc22qj79H90B5naOg\n",
            "\n",
            "The authorization workflow will generate a code, which you should paste in the box below.\n",
            "Enter verification code: 4/1AfJohXmWMGM6PwZ5tPmX641cAqYJa4L6PEjcqpcc7CiIeWOuzDH3d2hQsJE\n",
            "\n",
            "Successfully saved authorization token.\n"
          ]
        }
      ]
    },
    {
      "cell_type": "code",
      "source": [
        "ee.Initialize()"
      ],
      "metadata": {
        "id": "dsyj2ZUS2QtL"
      },
      "execution_count": 15,
      "outputs": []
    },
    {
      "cell_type": "code",
      "source": [
        "#getting the image\n",
        "landsat8 = ee.Image(\"LANDSAT/LC08/C01/T1_TOA/LC08_170052_20170108\").select(\"B4\",\"B3\",\"B2\")"
      ],
      "metadata": {
        "id": "zwo71DGFj0YT"
      },
      "execution_count": 19,
      "outputs": []
    },
    {
      "cell_type": "code",
      "source": [
        "#defining the region\n",
        "region = ee.Geometry.Rectangle(37.07,11.50,37.39,11.82)"
      ],
      "metadata": {
        "id": "oC6Hgjvy2Z_e"
      },
      "execution_count": 17,
      "outputs": []
    },
    {
      "cell_type": "code",
      "source": [
        "#export it to google drive\n",
        "task = ee.batch.Export.image.toDrive(**{\n",
        "    \"image\": landsat8,\n",
        "    \"description\":\"test jpg\",\n",
        "    \"folder\":\"export\",\n",
        "    \"scale\":30,\n",
        "    \"region\":region.getInfo()[\"coordinates\"],\n",
        "    \"fileFormat\":\"GEO_TIFF\"\n",
        "})\n",
        "\n",
        "task.start()"
      ],
      "metadata": {
        "id": "wlyE9XGm4L89"
      },
      "execution_count": 22,
      "outputs": []
    },
    {
      "cell_type": "code",
      "source": [],
      "metadata": {
        "id": "kI9Kz2O-4YBA"
      },
      "execution_count": null,
      "outputs": []
    }
  ]
}